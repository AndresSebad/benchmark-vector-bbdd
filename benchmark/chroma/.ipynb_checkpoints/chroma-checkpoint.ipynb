{
 "cells": [
  {
   "cell_type": "code",
   "execution_count": 49,
   "id": "51eef7a3-ac1f-4892-9dfd-ef24346ab803",
   "metadata": {},
   "outputs": [],
   "source": [
    "import chromadb\n",
    "from chromadb.utils import embedding_functions\n",
    "\n",
    "chroma_client = chromadb.Client() # Ocupamos caché\n",
    "\n",
    "default_ef = embedding_functions.DefaultEmbeddingFunction()"
   ]
  },
  {
   "cell_type": "code",
   "execution_count": 56,
   "id": "071ea746-a52d-4bfb-a18c-7eeecb89ad29",
   "metadata": {},
   "outputs": [],
   "source": [
    "collection = chroma_client.create_collection(name=\"my_collection\", embedding_function=default_ef) # Creamos colección\n",
    "# collection = chroma_client.get_collection(name=\"my_collection\") # Recuperamos colección\n",
    "# chroma_client.delete_collection(name=\"my_collection\") # Delete colección # Eliminamos colección"
   ]
  },
  {
   "cell_type": "code",
   "execution_count": 52,
   "id": "da405a5b-2a5a-41f6-9998-7c241ccde6e9",
   "metadata": {},
   "outputs": [],
   "source": [
    "#collection.add(\n",
    "    #documents=[\"This is a document\", \"This is another document\"],\n",
    "    #metadatas=[{\"source\": \"my_source\"}, {\"source\": \"my_source\"}],\n",
    "    #ids=[\"id1\", \"id2\"]\n",
    "#) # Agregamos datos, por defecto ocupa el modelo de embedding definido"
   ]
  },
  {
   "cell_type": "code",
   "execution_count": 53,
   "id": "195a98d6-635a-4877-b173-6a053147dcc3",
   "metadata": {},
   "outputs": [],
   "source": [
    "#results = collection.query(\n",
    "    #query_texts=[\"This is a query document\"],\n",
    "    #n_results=2\n",
    "#) # Búsqueda por similitud"
   ]
  },
  {
   "cell_type": "code",
   "execution_count": 78,
   "id": "9e2f2e72-6703-4798-b280-6c9061055b1f",
   "metadata": {},
   "outputs": [],
   "source": [
    "class DatabaseBenchmark:\n",
    "    def __init__(self, db_collection, cost_per_hour = False):\n",
    "        self.db_collection = db_collection\n",
    "        self.cost_per_hour = cost_per_hour\n",
    "\n",
    "    def query(self, query_string, n_results):\n",
    "        results = self.db_collection.query(\n",
    "            query_texts=query_string, # Lista de strings\n",
    "            n_results=n_results # Número de resultados\n",
    "        )\n",
    "        pass\n",
    "\n",
    "    def build_index(self, documents, metadatas, ids):\n",
    "        self.db_collection.add(\n",
    "            documents=documents, # Lista Documentos\n",
    "            metadatas=metadatas, # Lista de Diccionarios\n",
    "            ids=ids # Lista de Ids\n",
    "        )\n",
    "        pass\n",
    "\n",
    "    def measure_qps(self, num_queries=5):\n",
    "        import timeit\n",
    "        \n",
    "        start_time = timeit.default_timer()\n",
    "        for _ in range(num_queries):\n",
    "            self.query(query_string=[\"Esto es un documento\"], n_results=1)\n",
    "        end_time = timeit.default_timer()\n",
    "        \n",
    "        qps = num_queries / (end_time - start_time)\n",
    "        \n",
    "        return qps\n",
    "    \n",
    "    def measure_qp_dollar(self, qps):\n",
    "        if self.cost_per_hour is False:\n",
    "            return \"No hay costo por hora\"\n",
    "        qp_dollar = (qps / self.cost_per_hour) * 3600\n",
    "        return qp_dollar\n",
    "    \n",
    "    def measure_latency(self):\n",
    "        import timeit\n",
    "        \n",
    "        start_time = timeit.default_timer()\n",
    "        self.query([\"Esto es un documento\"], 1)\n",
    "        latency = timeit.default_timer() - start_time\n",
    "        \n",
    "        return latency\n",
    "    \n",
    "    def measure_index_building_time(self):\n",
    "        import timeit\n",
    "        \n",
    "        start_time = timeit.default_timer()\n",
    "        self.build_index([\"Esto es un documento\"], {\"source\": \"my_source\"}, [\"id1\"])\n",
    "        index_building_time = timeit.default_timer() - start_time\n",
    "        \n",
    "        return index_building_time"
   ]
  },
  {
   "cell_type": "code",
   "execution_count": 79,
   "id": "1a188c8e-5435-44b5-a746-564a49eabd73",
   "metadata": {},
   "outputs": [],
   "source": [
    "Benchmark = DatabaseBenchmark(db_collection=collection)"
   ]
  },
  {
   "cell_type": "code",
   "execution_count": 66,
   "id": "82f5ee4a-a8fc-4622-9cc6-238d39e350b8",
   "metadata": {},
   "outputs": [
    {
     "data": {
      "text/plain": [
       "0.12283339999976306"
      ]
     },
     "execution_count": 66,
     "metadata": {},
     "output_type": "execute_result"
    }
   ],
   "source": [
    "Benchmark.measure_index_building_time() # Segundos"
   ]
  },
  {
   "cell_type": "code",
   "execution_count": 80,
   "id": "20377d11-61af-4412-a028-24ae58bd0c18",
   "metadata": {},
   "outputs": [
    {
     "data": {
      "text/plain": [
       "11.803291536697659"
      ]
     },
     "execution_count": 80,
     "metadata": {},
     "output_type": "execute_result"
    }
   ],
   "source": [
    "Benchmark.measure_qps() # Queries per seconds"
   ]
  },
  {
   "cell_type": "code",
   "execution_count": 81,
   "id": "9bfe9f85-7ba6-4421-96e9-ef6d20a9532f",
   "metadata": {},
   "outputs": [
    {
     "data": {
      "text/plain": [
       "0.09563619999971706"
      ]
     },
     "execution_count": 81,
     "metadata": {},
     "output_type": "execute_result"
    }
   ],
   "source": [
    "Benchmark.measure_latency() # Latencia query"
   ]
  }
 ],
 "metadata": {
  "kernelspec": {
   "display_name": "Python 3 (ipykernel)",
   "language": "python",
   "name": "python3"
  },
  "language_info": {
   "codemirror_mode": {
    "name": "ipython",
    "version": 3
   },
   "file_extension": ".py",
   "mimetype": "text/x-python",
   "name": "python",
   "nbconvert_exporter": "python",
   "pygments_lexer": "ipython3",
   "version": "3.9.5"
  }
 },
 "nbformat": 4,
 "nbformat_minor": 5
}
