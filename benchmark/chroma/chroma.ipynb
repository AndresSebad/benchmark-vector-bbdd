{
 "cells": [
  {
   "cell_type": "code",
   "execution_count": 5,
   "id": "51eef7a3-ac1f-4892-9dfd-ef24346ab803",
   "metadata": {},
   "outputs": [],
   "source": [
    "import chromadb\n",
    "from chromadb.utils import embedding_functions\n",
    "import pandas as pd\n",
    "\n",
    "# Podemos ocupar culaquier tipo de Cliente\n",
    "chroma_client = chromadb.Client() # Ocupamos caché\n",
    "\n",
    "default_ef = embedding_functions.DefaultEmbeddingFunction() # all-MiniLM-L6-v2 model"
   ]
  },
  {
   "cell_type": "code",
   "execution_count": 10,
   "id": "071ea746-a52d-4bfb-a18c-7eeecb89ad29",
   "metadata": {},
   "outputs": [],
   "source": [
    "collection = chroma_client.create_collection(name=\"my_collection\", embedding_function=default_ef) # Creamos colección\n",
    "# collection = chroma_client.get_collection(name=\"my_collection\") # Recuperamos colección\n",
    "# chroma_client.delete_collection(name=\"my_collection\") # Delete colección # Eliminamos colección"
   ]
  },
  {
   "cell_type": "code",
   "execution_count": 52,
   "id": "da405a5b-2a5a-41f6-9998-7c241ccde6e9",
   "metadata": {},
   "outputs": [],
   "source": [
    "#collection.add(\n",
    "    #documents=[\"This is a document\", \"This is another document\"],\n",
    "    #metadatas=[{\"source\": \"my_source\"}, {\"source\": \"my_source\"}],\n",
    "    #ids=[\"id1\", \"id2\"]\n",
    "#) # Agregamos datos, por defecto ocupa el modelo de embedding all-MiniLM-L6-v2"
   ]
  },
  {
   "cell_type": "code",
   "execution_count": 53,
   "id": "195a98d6-635a-4877-b173-6a053147dcc3",
   "metadata": {},
   "outputs": [],
   "source": [
    "#results = collection.query(\n",
    "    #query_texts=[\"This is a query document\"],\n",
    "    #n_results=2\n",
    "#) # Búsqueda por similitud"
   ]
  },
  {
   "cell_type": "code",
   "execution_count": 20,
   "id": "9e2f2e72-6703-4798-b280-6c9061055b1f",
   "metadata": {},
   "outputs": [],
   "source": [
    "class DatabaseBenchmark:\n",
    "    def __init__(self, db_collection, cost_per_hour = False):\n",
    "        self.db_collection = db_collection\n",
    "        self.cost_per_hour = cost_per_hour\n",
    "\n",
    "    def query(self, query_string, n_results):\n",
    "        # Squared L2\n",
    "        results = self.db_collection.query(\n",
    "            query_texts=query_string, # Lista de strings\n",
    "            n_results=n_results # Número de resultados\n",
    "        )\n",
    "        pass\n",
    "\n",
    "    def build_index(self, documents, metadatas, ids):\n",
    "        self.db_collection.add(\n",
    "            documents=documents, # Lista Documentos\n",
    "            metadatas=metadatas, # Lista de Diccionarios\n",
    "            ids=ids # Lista de Ids\n",
    "        )\n",
    "        pass\n",
    "\n",
    "    def measure_qps(self, num_queries=5):\n",
    "        import timeit\n",
    "        \n",
    "        start_time = timeit.default_timer()\n",
    "        for _ in range(num_queries):\n",
    "            self.query(query_string=[\"¿Quién es Quijote de la Mancha?\"], n_results=1)\n",
    "        end_time = timeit.default_timer()\n",
    "        \n",
    "        qps = num_queries / (end_time - start_time)\n",
    "        \n",
    "        return qps\n",
    "    \n",
    "    def measure_qp_dollar(self, qps):\n",
    "        if self.cost_per_hour is False:\n",
    "            return \"No hay costo por hora\"\n",
    "        qp_dollar = (qps / self.cost_per_hour) * 3600\n",
    "        return qp_dollar\n",
    "    \n",
    "    def measure_latency(self):\n",
    "        import timeit\n",
    "        \n",
    "        start_time = timeit.default_timer()\n",
    "        self.query([\"¿Quién es Quijote de la Mancha?\"], 1)\n",
    "        latency = timeit.default_timer() - start_time\n",
    "        \n",
    "        return latency\n",
    "    \n",
    "    def measure_index_building_time(self, documents, metadatas, ids):\n",
    "        import timeit\n",
    "        \n",
    "        start_time = timeit.default_timer()\n",
    "        self.build_index(documents, metadatas, ids)\n",
    "        index_building_time = timeit.default_timer() - start_time\n",
    "        \n",
    "        return index_building_time"
   ]
  },
  {
   "cell_type": "markdown",
   "id": "5c0c5014-8049-4098-94d7-c7e219b68eb0",
   "metadata": {},
   "source": [
    "## Preparación Data"
   ]
  },
  {
   "cell_type": "code",
   "execution_count": 42,
   "id": "d46697ba-392c-401a-9ca0-ffc1dce926e8",
   "metadata": {},
   "outputs": [
    {
     "data": {
      "text/html": [
       "<div>\n",
       "<style scoped>\n",
       "    .dataframe tbody tr th:only-of-type {\n",
       "        vertical-align: middle;\n",
       "    }\n",
       "\n",
       "    .dataframe tbody tr th {\n",
       "        vertical-align: top;\n",
       "    }\n",
       "\n",
       "    .dataframe thead th {\n",
       "        text-align: right;\n",
       "    }\n",
       "</style>\n",
       "<table border=\"1\" class=\"dataframe\">\n",
       "  <thead>\n",
       "    <tr style=\"text-align: right;\">\n",
       "      <th></th>\n",
       "      <th>AUTOR</th>\n",
       "      <th>TITULO</th>\n",
       "      <th>TEXTO</th>\n",
       "    </tr>\n",
       "  </thead>\n",
       "  <tbody>\n",
       "    <tr>\n",
       "      <th>0</th>\n",
       "      <td>Miguel de Cervantes Saavedra</td>\n",
       "      <td>Quijote - Primera Parte</td>\n",
       "      <td>El ingenioso hidalgo don Quijote de la Mancha\\...</td>\n",
       "    </tr>\n",
       "    <tr>\n",
       "      <th>1</th>\n",
       "      <td>Miguel de Cervantes Saavedra</td>\n",
       "      <td>Quijote - Segunda Parte</td>\n",
       "      <td>Segunda parte del ingenioso caballero don Quij...</td>\n",
       "    </tr>\n",
       "    <tr>\n",
       "      <th>2</th>\n",
       "      <td>Garcilaso de la Vega</td>\n",
       "      <td>ÉGLOGA PRIMERA</td>\n",
       "      <td>El dulce lamentar de dos pastores,\\nSalicio ju...</td>\n",
       "    </tr>\n",
       "    <tr>\n",
       "      <th>3</th>\n",
       "      <td>Garcilaso de la Vega</td>\n",
       "      <td>ÉGLOGA SEGUNDA</td>\n",
       "      <td>ALBANIO\\n\\nEn medio del invierno está templada...</td>\n",
       "    </tr>\n",
       "    <tr>\n",
       "      <th>4</th>\n",
       "      <td>Garcilaso de la Vega</td>\n",
       "      <td>ÉGLOGA TERCERA</td>\n",
       "      <td>Aquella voluntad honesta y pura,\\nilustre y he...</td>\n",
       "    </tr>\n",
       "  </tbody>\n",
       "</table>\n",
       "</div>"
      ],
      "text/plain": [
       "                          AUTOR                   TITULO  \\\n",
       "0  Miguel de Cervantes Saavedra  Quijote - Primera Parte   \n",
       "1  Miguel de Cervantes Saavedra  Quijote - Segunda Parte   \n",
       "2          Garcilaso de la Vega           ÉGLOGA PRIMERA   \n",
       "3          Garcilaso de la Vega           ÉGLOGA SEGUNDA   \n",
       "4          Garcilaso de la Vega           ÉGLOGA TERCERA   \n",
       "\n",
       "                                               TEXTO  \n",
       "0  El ingenioso hidalgo don Quijote de la Mancha\\...  \n",
       "1  Segunda parte del ingenioso caballero don Quij...  \n",
       "2  El dulce lamentar de dos pastores,\\nSalicio ju...  \n",
       "3  ALBANIO\\n\\nEn medio del invierno está templada...  \n",
       "4  Aquella voluntad honesta y pura,\\nilustre y he...  "
      ]
     },
     "execution_count": 42,
     "metadata": {},
     "output_type": "execute_result"
    }
   ],
   "source": [
    "data = pd.read_csv(\"../data/textos.csv\")\n",
    "data.head()"
   ]
  },
  {
   "cell_type": "code",
   "execution_count": 33,
   "id": "44773ed9-2e51-45e0-a103-0defcf728429",
   "metadata": {},
   "outputs": [],
   "source": [
    "textos = data['TEXTO'].tolist() # Lista de textos\n",
    "metadatas = data[['TITULO', 'AUTOR']].to_dict('records') # Lista de diccionarios con metadatos\n",
    "ids = [str(x) for x in data.index] # Lista de ids"
   ]
  },
  {
   "cell_type": "markdown",
   "id": "6acf9076-ff70-467c-9162-cb2009084fc7",
   "metadata": {},
   "source": [
    "## Ejemplo Benchmark"
   ]
  },
  {
   "cell_type": "code",
   "execution_count": 34,
   "id": "1a188c8e-5435-44b5-a746-564a49eabd73",
   "metadata": {},
   "outputs": [],
   "source": [
    "Benchmark = DatabaseBenchmark(db_collection=collection, cost_per_hour = False)"
   ]
  },
  {
   "cell_type": "code",
   "execution_count": 35,
   "id": "82f5ee4a-a8fc-4622-9cc6-238d39e350b8",
   "metadata": {},
   "outputs": [
    {
     "data": {
      "text/plain": [
       "101.38702780000017"
      ]
     },
     "execution_count": 35,
     "metadata": {},
     "output_type": "execute_result"
    }
   ],
   "source": [
    "Benchmark.measure_index_building_time(textos, metadatas, ids) # Segundos"
   ]
  },
  {
   "cell_type": "code",
   "execution_count": 37,
   "id": "20377d11-61af-4412-a028-24ae58bd0c18",
   "metadata": {},
   "outputs": [
    {
     "data": {
      "text/plain": [
       "9.802661638293758"
      ]
     },
     "execution_count": 37,
     "metadata": {},
     "output_type": "execute_result"
    }
   ],
   "source": [
    "Benchmark.measure_qps(num_queries = 20) # Queries per seconds"
   ]
  },
  {
   "cell_type": "code",
   "execution_count": 41,
   "id": "9bfe9f85-7ba6-4421-96e9-ef6d20a9532f",
   "metadata": {},
   "outputs": [
    {
     "data": {
      "text/plain": [
       "0.13359560000003512"
      ]
     },
     "execution_count": 41,
     "metadata": {},
     "output_type": "execute_result"
    }
   ],
   "source": [
    "Benchmark.measure_latency() # Latencia query"
   ]
  }
 ],
 "metadata": {
  "kernelspec": {
   "display_name": "Python 3 (ipykernel)",
   "language": "python",
   "name": "python3"
  },
  "language_info": {
   "codemirror_mode": {
    "name": "ipython",
    "version": 3
   },
   "file_extension": ".py",
   "mimetype": "text/x-python",
   "name": "python",
   "nbconvert_exporter": "python",
   "pygments_lexer": "ipython3",
   "version": "3.9.5"
  }
 },
 "nbformat": 4,
 "nbformat_minor": 5
}
