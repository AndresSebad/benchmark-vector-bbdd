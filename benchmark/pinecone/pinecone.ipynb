{
 "cells": [
  {
   "cell_type": "code",
   "execution_count": 4,
   "metadata": {},
   "outputs": [
    {
     "name": "stdout",
     "output_type": "stream",
     "text": [
      "zsh:1: command not found: brew\n"
     ]
    }
   ],
   "source": [
    "!brew install libpq\n"
   ]
  },
  {
   "cell_type": "code",
   "execution_count": 1,
   "metadata": {},
   "outputs": [
    {
     "name": "stderr",
     "output_type": "stream",
     "text": [
      "/Library/Frameworks/Python.framework/Versions/3.10/lib/python3.10/site-packages/pinecone/index.py:4: TqdmExperimentalWarning: Using `tqdm.autonotebook.tqdm` in notebook mode. Use `tqdm.tqdm` instead to force console mode (e.g. in jupyter console)\n",
      "  from tqdm.autonotebook import tqdm\n"
     ]
    }
   ],
   "source": [
    "import pinecone\n",
    "import pandas as pd\n",
    "import timeit\n",
    "from transformers import AutoTokenizer, AutoModel\n",
    "import torch\n",
    "\n",
    "class PineconeWrapper:\n",
    "    def __init__(self, api_key, environment, index_name, dimension):\n",
    "        pinecone.init(api_key=api_key, environment=environment)\n",
    "        self.index = pinecone.Index(index_name)\n",
    "        self.report = {}\n",
    "        if index_name not in pinecone.list_indexes():\n",
    "            pinecone.create_index(index_name, dimension=dimension)\n",
    "        self.model_name = \"sentence-transformers/all-MiniLM-L6-v2\"\n",
    "        self.tokenizer = AutoTokenizer.from_pretrained(self.model_name)\n",
    "        self.model = AutoModel.from_pretrained(self.model_name)\n",
    "\n",
    "    def text_to_vector(self, text):\n",
    "        inputs = self.tokenizer(text, return_tensors=\"pt\", truncation=True, max_length=512)\n",
    "        with torch.no_grad():\n",
    "            outputs = self.model(**inputs)\n",
    "        return outputs.pooler_output[0].numpy()\n",
    "\n",
    "    def add_documents(self, data):\n",
    "        vectors = [\n",
    "            {'id': str(i), 'values': self.text_to_vector(row['TEXTO']).tolist(), 'metadata': {'titulo': row['TITULO'], 'autor': row['AUTOR']}}\n",
    "            for i, row in data.iterrows()\n",
    "        ]\n",
    "        start_time = timeit.default_timer()\n",
    "        self.index.upsert(vectors=vectors)\n",
    "        end_time = timeit.default_timer()\n",
    "        self.report[\"building time\"] = end_time - start_time\n",
    "\n",
    "    def query_documents(self, query_text, top_k=1):\n",
    "        query_vector = self.text_to_vector(query_text)\n",
    "        start_time = timeit.default_timer()\n",
    "        self.index.query(query_vector.tolist(), top_k=top_k)\n",
    "        end_time = timeit.default_timer()\n",
    "        self.report[\"query time\"] = end_time - start_time\n",
    "\n",
    "    def calculate_query_latency(self, query_text, num_queries, top_k=1):\n",
    "        total_time = 0\n",
    "        for _ in range(num_queries):\n",
    "            start_time = timeit.default_timer()\n",
    "            self.index.query(self.text_to_vector(query_text).tolist(), top_k=top_k)\n",
    "            total_time += timeit.default_timer() - start_time\n",
    "        self.report[\"query latency\"] = total_time / num_queries\n",
    "        return self.report[\"query latency\"]\n",
    "    \n",
    "    def calculate_qps(self, query_text, num_queries, top_k=1):\n",
    "        start_time = timeit.default_timer()\n",
    "        for _ in range(num_queries):\n",
    "            self.index.query(self.text_to_vector(query_text).tolist(), top_k=top_k)\n",
    "        end_time = timeit.default_timer()\n",
    "        qps = num_queries / (end_time - start_time)\n",
    "        self.report[\"queries per second\"] = qps\n",
    "        return qps\n",
    "\n",
    "    def get_report(self):\n",
    "        for key in self.report:\n",
    "            print(f\"{key}: {self.report[key]}\")\n",
    "\n",
    "\n",
    "pinecone_wrapper = PineconeWrapper(api_key='396914a9-a013-4cd9-b65a-8feda57ae7c1', \n",
    "                                   index_name='pinecone-index',\n",
    "                                   environment= \"gcp-starter\", \n",
    "                                   dimension=384)\n",
    "\n",
    "data = pd.read_csv('../data/textos.csv')\n",
    "pinecone_wrapper.add_documents(data)\n",
    "pinecone_wrapper.calculate_query_latency('¿Quién es Quijote de la Mancha?', 5)\n",
    "pinecone_wrapper.query_documents(\"This is a query document\")\n",
    "pinecone_wrapper.calculate_qps('¿Quién es Quijote de la Mancha?', 100)\n",
    "pinecone_wrapper.get_report()\n"
   ]
  },
  {
   "cell_type": "code",
   "execution_count": 9,
   "metadata": {},
   "outputs": [
    {
     "name": "stdout",
     "output_type": "stream",
     "text": [
      "building time: 1.6703985409985762\n",
      "query latency: 0.3170276749995537\n",
      "query time: 0.1981152500011376\n",
      "queries per second: 4.231311206809164\n"
     ]
    }
   ],
   "source": [
    "pinecone_wrapper = PineconeWrapper(api_key='396914a9-a013-4cd9-b65a-8feda57ae7c1', \n",
    "                                   index_name='pinecone-index',\n",
    "                                   environment= \"gcp-starter\", \n",
    "                                   dimension=384)\n",
    "\n",
    "data = pd.read_csv('../data/textos.csv')\n",
    "pinecone_wrapper.add_documents(data)\n",
    "pinecone_wrapper.calculate_query_latency('¿Quién es Quijote de la Mancha?', 5)\n",
    "pinecone_wrapper.query_documents(\"This is a query document\")\n",
    "pinecone_wrapper.calculate_qps('¿Quién es Quijote de la Mancha?', 100)\n",
    "pinecone_wrapper.get_report()\n"
   ]
  },
  {
   "cell_type": "code",
   "execution_count": null,
   "metadata": {},
   "outputs": [],
   "source": []
  }
 ],
 "metadata": {
  "kernelspec": {
   "display_name": "Python 3",
   "language": "python",
   "name": "python3"
  },
  "language_info": {
   "codemirror_mode": {
    "name": "ipython",
    "version": 3
   },
   "file_extension": ".py",
   "mimetype": "text/x-python",
   "name": "python",
   "nbconvert_exporter": "python",
   "pygments_lexer": "ipython3",
   "version": "3.10.10"
  }
 },
 "nbformat": 4,
 "nbformat_minor": 2
}
