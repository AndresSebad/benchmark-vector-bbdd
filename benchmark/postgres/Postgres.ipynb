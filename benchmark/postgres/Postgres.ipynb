{
 "cells": [
  {
   "cell_type": "code",
   "execution_count": 1,
   "id": "81ccc637-a2ce-44b2-ae5d-79024b5ee6c0",
   "metadata": {},
   "outputs": [],
   "source": [
    "import psycopg as pg\n",
    "from pgvector.psycopg import register_vector\n",
    "from sklearn.feature_extraction.text import TfidfVectorizer\n",
    "import pandas as pd\n",
    "from sklearn.decomposition import TruncatedSVD\n",
    "import numpy as np\n",
    "from connections import dbname, user, password, host, port"
   ]
  },
  {
   "cell_type": "code",
   "execution_count": 2,
   "id": "56943b96-a66c-454e-98c4-80eb9ca5bc23",
   "metadata": {},
   "outputs": [],
   "source": [
    "import timeit\n",
    "class DatabaseBenchmark:\n",
    "    \"\"\"\n",
    "    Clase para benchmark de postgres\n",
    "    Falta arreglar las querys para tipo python, decidir tipo de indexacion y ver como funciona con datos reales\n",
    "    al contrario de chromi, no encuentro vectorizador por default, por lo que se puede utilizar tfidf\n",
    "    \"\"\"\n",
    "    def __init__(self, db_connection, vectorizer, trunc, table = 'embeddings', cost_per_hour = False):\n",
    "        \"\"\"\n",
    "        db_connection: Conexión a base de datos\n",
    "        vectorizer: text to vector vectorizer\n",
    "        trunc: trunc svd from sparse matrix to lower dim matrix\n",
    "        \"\"\"\n",
    "\n",
    "        self.db_connection = db_connection\n",
    "        self.cost_per_hour = cost_per_hour\n",
    "        self.vectorizer = vectorizer\n",
    "        self.trunc = trunc\n",
    "        self.table = table\n",
    "\n",
    "    def query(self, query_string, n_results = 1):\n",
    "        \"\"\"\n",
    "        query_string: vector de representación de un texto\n",
    "        n_results: numeros de vecinos a buscar\n",
    "        \"\"\"\n",
    "        query_vector = self.trunc.transform(self.vectorizer.transform([query_string]))[0].tolist()\n",
    "        \n",
    "        with self.db_connection.cursor() as cur:\n",
    "            \n",
    "            query = \"SELECT * FROM {0} ORDER BY embedding <-> '{1}' LIMIT {2};\".format(self.table, query_vector, n_results) \n",
    "        \n",
    "            results = cur.execute(query)\n",
    "\n",
    "            return [record for record in results]  \n",
    "#       \n",
    "\n",
    "    def build_index(self, method = 'ivfflat'):\n",
    "        \"\"\"\n",
    "        incompleta, probar con datos\n",
    "        \"\"\"\n",
    "        with self.db_connection.cursor() as cur:\n",
    "        \n",
    "            query = 'CREATE INDEX ON {0} USING {1} (embedding vector_l2_ops);'.format(self.table, method)\n",
    "            \n",
    "        results = cur.execute(query)\n",
    "#       \n",
    "\n",
    "    def measure_qps(self, query_string, num_queries=5, n_results = 1):\n",
    "        \n",
    "        start_time = timeit.default_timer()\n",
    "        for _ in range(num_queries):\n",
    "            self.query(query_string= query_string, n_results= n_results)\n",
    "        end_time = timeit.default_timer()\n",
    "        \n",
    "        qps = num_queries / (end_time - start_time)\n",
    "        \n",
    "        return qps\n",
    "    \n",
    "    def measure_qp_dollar(self, qps):\n",
    "        if self.cost_per_hour is False:\n",
    "            return \"No hay costo por hora\"\n",
    "        qp_dollar = (qps / self.cost_per_hour) * 3600\n",
    "        return qp_dollar\n",
    "    \n",
    "    def measure_latency(self, query_string, ):\n",
    "\n",
    "        \n",
    "        start_time = timeit.default_timer()\n",
    "        self.query(query_string, 1)\n",
    "        latency = timeit.default_timer() - start_time\n",
    "        \n",
    "        return latency\n",
    "    \n",
    "    def measure_index_building_time(self):\n",
    "\n",
    "        \n",
    "        start_time = timeit.default_timer()\n",
    "        self.build_index([\"Esto es un documento\"], {\"source\": \"my_source\"}, [\"id1\"])\n",
    "        index_building_time = timeit.default_timer() - start_time\n",
    "        \n",
    "        return index_building_time"
   ]
  },
  {
   "cell_type": "markdown",
   "id": "fa7c5930-14bc-4a1c-991c-862743984f27",
   "metadata": {},
   "source": [
    "# Database loading and vectorization"
   ]
  },
  {
   "cell_type": "code",
   "execution_count": 3,
   "id": "c943b800-827b-4f57-910b-f8f85e701a53",
   "metadata": {},
   "outputs": [],
   "source": [
    "textos = pd.read_csv('textos.csv')"
   ]
  },
  {
   "cell_type": "code",
   "execution_count": 4,
   "id": "b2e2d7b9-f591-4483-a5f3-086e061c81c6",
   "metadata": {},
   "outputs": [],
   "source": [
    "vectorizer = TfidfVectorizer()\n",
    "emb = vectorizer.fit_transform(textos['TEXTO'])"
   ]
  },
  {
   "cell_type": "code",
   "execution_count": 5,
   "id": "d61facb6-641f-4e7c-bf0b-732069e4bcbc",
   "metadata": {},
   "outputs": [
    {
     "data": {
      "text/html": [
       "<div>\n",
       "<style scoped>\n",
       "    .dataframe tbody tr th:only-of-type {\n",
       "        vertical-align: middle;\n",
       "    }\n",
       "\n",
       "    .dataframe tbody tr th {\n",
       "        vertical-align: top;\n",
       "    }\n",
       "\n",
       "    .dataframe thead th {\n",
       "        text-align: right;\n",
       "    }\n",
       "</style>\n",
       "<table border=\"1\" class=\"dataframe\">\n",
       "  <thead>\n",
       "    <tr style=\"text-align: right;\">\n",
       "      <th></th>\n",
       "      <th>AUTOR</th>\n",
       "      <th>TITULO</th>\n",
       "    </tr>\n",
       "  </thead>\n",
       "  <tbody>\n",
       "    <tr>\n",
       "      <th>0</th>\n",
       "      <td>Miguel de Cervantes Saavedra</td>\n",
       "      <td>Quijote - Primera Parte</td>\n",
       "    </tr>\n",
       "    <tr>\n",
       "      <th>1</th>\n",
       "      <td>Miguel de Cervantes Saavedra</td>\n",
       "      <td>Quijote - Segunda Parte</td>\n",
       "    </tr>\n",
       "    <tr>\n",
       "      <th>2</th>\n",
       "      <td>Garcilaso de la Vega</td>\n",
       "      <td>ÉGLOGA PRIMERA</td>\n",
       "    </tr>\n",
       "    <tr>\n",
       "      <th>3</th>\n",
       "      <td>Garcilaso de la Vega</td>\n",
       "      <td>ÉGLOGA SEGUNDA</td>\n",
       "    </tr>\n",
       "    <tr>\n",
       "      <th>4</th>\n",
       "      <td>Garcilaso de la Vega</td>\n",
       "      <td>ÉGLOGA TERCERA</td>\n",
       "    </tr>\n",
       "    <tr>\n",
       "      <th>...</th>\n",
       "      <td>...</td>\n",
       "      <td>...</td>\n",
       "    </tr>\n",
       "    <tr>\n",
       "      <th>127</th>\n",
       "      <td>Benito Pérez Galdós</td>\n",
       "      <td>España trágica</td>\n",
       "    </tr>\n",
       "    <tr>\n",
       "      <th>128</th>\n",
       "      <td>Benito Pérez Galdós</td>\n",
       "      <td>Amadeo I</td>\n",
       "    </tr>\n",
       "    <tr>\n",
       "      <th>129</th>\n",
       "      <td>Benito Pérez Galdós</td>\n",
       "      <td>La Primera República</td>\n",
       "    </tr>\n",
       "    <tr>\n",
       "      <th>130</th>\n",
       "      <td>Benito Pérez Galdós</td>\n",
       "      <td>De Cartago a Sagunto</td>\n",
       "    </tr>\n",
       "    <tr>\n",
       "      <th>131</th>\n",
       "      <td>Benito Pérez Galdós</td>\n",
       "      <td>Cánovas</td>\n",
       "    </tr>\n",
       "  </tbody>\n",
       "</table>\n",
       "<p>132 rows × 2 columns</p>\n",
       "</div>"
      ],
      "text/plain": [
       "                            AUTOR                   TITULO\n",
       "0    Miguel de Cervantes Saavedra  Quijote - Primera Parte\n",
       "1    Miguel de Cervantes Saavedra  Quijote - Segunda Parte\n",
       "2            Garcilaso de la Vega           ÉGLOGA PRIMERA\n",
       "3            Garcilaso de la Vega           ÉGLOGA SEGUNDA\n",
       "4            Garcilaso de la Vega           ÉGLOGA TERCERA\n",
       "..                            ...                      ...\n",
       "127           Benito Pérez Galdós           España trágica\n",
       "128           Benito Pérez Galdós                 Amadeo I\n",
       "129           Benito Pérez Galdós     La Primera República\n",
       "130           Benito Pérez Galdós     De Cartago a Sagunto\n",
       "131           Benito Pérez Galdós                  Cánovas\n",
       "\n",
       "[132 rows x 2 columns]"
      ]
     },
     "execution_count": 5,
     "metadata": {},
     "output_type": "execute_result"
    }
   ],
   "source": [
    "textos = textos.drop(columns = 'TEXTO').reset_index(drop = True)\n",
    "textos"
   ]
  },
  {
   "cell_type": "code",
   "execution_count": 6,
   "id": "9900567d-162c-4a1b-90f6-bd46468ae9fe",
   "metadata": {},
   "outputs": [
    {
     "name": "stdout",
     "output_type": "stream",
     "text": [
      "CPU times: total: 21.2 s\n",
      "Wall time: 6.46 s\n"
     ]
    }
   ],
   "source": [
    "%%time\n",
    "trunc = TruncatedSVD(128)\n",
    "embr = trunc.fit_transform(emb)"
   ]
  },
  {
   "cell_type": "code",
   "execution_count": 7,
   "id": "ff90b6f0-6b7c-4bbd-b8ea-81db358627a3",
   "metadata": {},
   "outputs": [
    {
     "data": {
      "text/plain": [
       "0      [0.947635730649286, 0.06068554806194847, -0.04...\n",
       "1      [0.9350762788705504, 0.03510169759942758, -0.0...\n",
       "2      [0.8349001953267468, 0.18602241097910138, 0.16...\n",
       "3      [0.878782437213844, 0.14469031439018562, 0.148...\n",
       "4      [0.8343033820264688, 0.008772285059165993, 0.2...\n",
       "                             ...                        \n",
       "127    [0.9688810912619967, -0.12942458429824633, 0.0...\n",
       "128    [0.9765492402506006, -0.07754434140533913, 0.0...\n",
       "129    [0.9705626227420445, -0.09337538083696006, 0.0...\n",
       "130    [0.971511913489722, -0.0938445619699487, 0.027...\n",
       "131    [0.9668054889319814, -0.10776291344748258, 0.0...\n",
       "Name: emb, Length: 132, dtype: object"
      ]
     },
     "execution_count": 7,
     "metadata": {},
     "output_type": "execute_result"
    }
   ],
   "source": [
    "textos['emb'] = [vec.tolist() for vec in embr]\n",
    "textos['emb']"
   ]
  },
  {
   "cell_type": "markdown",
   "id": "f40fa75c-a1b1-4bba-a208-6ac2bedab9b0",
   "metadata": {},
   "source": [
    "# DB CREATION"
   ]
  },
  {
   "cell_type": "code",
   "execution_count": 8,
   "id": "2978c64f-fa1d-4ce6-8039-3ff375ae7e31",
   "metadata": {},
   "outputs": [],
   "source": [
    "conn = pg.connect(dbname= dbname, user= user, password= password, host= host, port= port)\n",
    "conn.autocommit = True"
   ]
  },
  {
   "cell_type": "code",
   "execution_count": 9,
   "id": "ef882532-1393-40b0-be69-b3143d317dcc",
   "metadata": {},
   "outputs": [
    {
     "data": {
      "text/plain": [
       "<psycopg.Cursor [COMMAND_OK] [IDLE] (host=127.0.0.1 database=postgres) at 0x21e9285b950>"
      ]
     },
     "execution_count": 9,
     "metadata": {},
     "output_type": "execute_result"
    }
   ],
   "source": [
    "cursor = conn.cursor()\n",
    "sql = '''DROP database if exists vector'''\n",
    "cursor.execute(sql)\n",
    "\n",
    "sql = '''CREATE database vector'''\n",
    "cursor.execute(sql)\n"
   ]
  },
  {
   "cell_type": "code",
   "execution_count": 10,
   "id": "6ada21dd-fae0-49d2-90ff-540f2e1f41e2",
   "metadata": {},
   "outputs": [],
   "source": [
    "conn = pg.connect(dbname= 'vector', user= user, password= password, host= host, port= port)"
   ]
  },
  {
   "cell_type": "code",
   "execution_count": 11,
   "id": "12c3794f-5a76-4501-bbbe-f20bcabb7ad5",
   "metadata": {},
   "outputs": [
    {
     "name": "stdout",
     "output_type": "stream",
     "text": [
      "CPU times: total: 31.2 ms\n",
      "Wall time: 23.9 ms\n"
     ]
    },
    {
     "data": {
      "text/plain": [
       "<psycopg.Cursor [COMMAND_OK] [INTRANS] (host=127.0.0.1 user=postgres database=vector) at 0x21e992941a0>"
      ]
     },
     "execution_count": 11,
     "metadata": {},
     "output_type": "execute_result"
    }
   ],
   "source": [
    "%%time\n",
    "conn.execute('CREATE EXTENSION IF NOT EXISTS vector') #la instalación en windows es una lata, instalar VSTUDIO 2022"
   ]
  },
  {
   "cell_type": "code",
   "execution_count": 12,
   "id": "66323ec2-c010-4c70-b92e-fc05a393979b",
   "metadata": {},
   "outputs": [],
   "source": [
    "register_vector(conn)"
   ]
  },
  {
   "cell_type": "code",
   "execution_count": 13,
   "id": "476ca84d-6b7b-4325-bc6a-dae2aacf495d",
   "metadata": {},
   "outputs": [],
   "source": [
    "\n",
    "table_create_command = \"\"\"\n",
    "CREATE TABLE embeddings (\n",
    "            id SERIAL primary key, \n",
    "            author text,\n",
    "            title text,\n",
    "            embedding vector(128)\n",
    "            );\n",
    "            \"\"\"\n",
    "cur = conn.cursor()\n",
    "cur.execute(table_create_command)\n",
    "cur.close()\n",
    "conn.commit()"
   ]
  },
  {
   "cell_type": "code",
   "execution_count": 14,
   "id": "c4d47c65-ae30-4086-86d0-e81cdd08922b",
   "metadata": {},
   "outputs": [
    {
     "data": {
      "text/html": [
       "<div>\n",
       "<style scoped>\n",
       "    .dataframe tbody tr th:only-of-type {\n",
       "        vertical-align: middle;\n",
       "    }\n",
       "\n",
       "    .dataframe tbody tr th {\n",
       "        vertical-align: top;\n",
       "    }\n",
       "\n",
       "    .dataframe thead th {\n",
       "        text-align: right;\n",
       "    }\n",
       "</style>\n",
       "<table border=\"1\" class=\"dataframe\">\n",
       "  <thead>\n",
       "    <tr style=\"text-align: right;\">\n",
       "      <th></th>\n",
       "      <th>AUTOR</th>\n",
       "      <th>TITULO</th>\n",
       "      <th>emb</th>\n",
       "    </tr>\n",
       "  </thead>\n",
       "  <tbody>\n",
       "    <tr>\n",
       "      <th>0</th>\n",
       "      <td>Miguel de Cervantes Saavedra</td>\n",
       "      <td>Quijote - Primera Parte</td>\n",
       "      <td>[0.947635730649286, 0.06068554806194847, -0.04...</td>\n",
       "    </tr>\n",
       "    <tr>\n",
       "      <th>1</th>\n",
       "      <td>Miguel de Cervantes Saavedra</td>\n",
       "      <td>Quijote - Segunda Parte</td>\n",
       "      <td>[0.9350762788705504, 0.03510169759942758, -0.0...</td>\n",
       "    </tr>\n",
       "    <tr>\n",
       "      <th>2</th>\n",
       "      <td>Garcilaso de la Vega</td>\n",
       "      <td>ÉGLOGA PRIMERA</td>\n",
       "      <td>[0.8349001953267468, 0.18602241097910138, 0.16...</td>\n",
       "    </tr>\n",
       "    <tr>\n",
       "      <th>3</th>\n",
       "      <td>Garcilaso de la Vega</td>\n",
       "      <td>ÉGLOGA SEGUNDA</td>\n",
       "      <td>[0.878782437213844, 0.14469031439018562, 0.148...</td>\n",
       "    </tr>\n",
       "    <tr>\n",
       "      <th>4</th>\n",
       "      <td>Garcilaso de la Vega</td>\n",
       "      <td>ÉGLOGA TERCERA</td>\n",
       "      <td>[0.8343033820264688, 0.008772285059165993, 0.2...</td>\n",
       "    </tr>\n",
       "    <tr>\n",
       "      <th>...</th>\n",
       "      <td>...</td>\n",
       "      <td>...</td>\n",
       "      <td>...</td>\n",
       "    </tr>\n",
       "    <tr>\n",
       "      <th>127</th>\n",
       "      <td>Benito Pérez Galdós</td>\n",
       "      <td>España trágica</td>\n",
       "      <td>[0.9688810912619967, -0.12942458429824633, 0.0...</td>\n",
       "    </tr>\n",
       "    <tr>\n",
       "      <th>128</th>\n",
       "      <td>Benito Pérez Galdós</td>\n",
       "      <td>Amadeo I</td>\n",
       "      <td>[0.9765492402506006, -0.07754434140533913, 0.0...</td>\n",
       "    </tr>\n",
       "    <tr>\n",
       "      <th>129</th>\n",
       "      <td>Benito Pérez Galdós</td>\n",
       "      <td>La Primera República</td>\n",
       "      <td>[0.9705626227420445, -0.09337538083696006, 0.0...</td>\n",
       "    </tr>\n",
       "    <tr>\n",
       "      <th>130</th>\n",
       "      <td>Benito Pérez Galdós</td>\n",
       "      <td>De Cartago a Sagunto</td>\n",
       "      <td>[0.971511913489722, -0.0938445619699487, 0.027...</td>\n",
       "    </tr>\n",
       "    <tr>\n",
       "      <th>131</th>\n",
       "      <td>Benito Pérez Galdós</td>\n",
       "      <td>Cánovas</td>\n",
       "      <td>[0.9668054889319814, -0.10776291344748258, 0.0...</td>\n",
       "    </tr>\n",
       "  </tbody>\n",
       "</table>\n",
       "<p>132 rows × 3 columns</p>\n",
       "</div>"
      ],
      "text/plain": [
       "                            AUTOR                   TITULO  \\\n",
       "0    Miguel de Cervantes Saavedra  Quijote - Primera Parte   \n",
       "1    Miguel de Cervantes Saavedra  Quijote - Segunda Parte   \n",
       "2            Garcilaso de la Vega           ÉGLOGA PRIMERA   \n",
       "3            Garcilaso de la Vega           ÉGLOGA SEGUNDA   \n",
       "4            Garcilaso de la Vega           ÉGLOGA TERCERA   \n",
       "..                            ...                      ...   \n",
       "127           Benito Pérez Galdós           España trágica   \n",
       "128           Benito Pérez Galdós                 Amadeo I   \n",
       "129           Benito Pérez Galdós     La Primera República   \n",
       "130           Benito Pérez Galdós     De Cartago a Sagunto   \n",
       "131           Benito Pérez Galdós                  Cánovas   \n",
       "\n",
       "                                                   emb  \n",
       "0    [0.947635730649286, 0.06068554806194847, -0.04...  \n",
       "1    [0.9350762788705504, 0.03510169759942758, -0.0...  \n",
       "2    [0.8349001953267468, 0.18602241097910138, 0.16...  \n",
       "3    [0.878782437213844, 0.14469031439018562, 0.148...  \n",
       "4    [0.8343033820264688, 0.008772285059165993, 0.2...  \n",
       "..                                                 ...  \n",
       "127  [0.9688810912619967, -0.12942458429824633, 0.0...  \n",
       "128  [0.9765492402506006, -0.07754434140533913, 0.0...  \n",
       "129  [0.9705626227420445, -0.09337538083696006, 0.0...  \n",
       "130  [0.971511913489722, -0.0938445619699487, 0.027...  \n",
       "131  [0.9668054889319814, -0.10776291344748258, 0.0...  \n",
       "\n",
       "[132 rows x 3 columns]"
      ]
     },
     "execution_count": 14,
     "metadata": {},
     "output_type": "execute_result"
    }
   ],
   "source": [
    "textos"
   ]
  },
  {
   "cell_type": "code",
   "execution_count": 15,
   "id": "1e3bf866-d3b9-4591-8355-ceae32c469b2",
   "metadata": {},
   "outputs": [
    {
     "name": "stdout",
     "output_type": "stream",
     "text": [
      "CPU times: total: 15.6 ms\n",
      "Wall time: 16 ms\n"
     ]
    }
   ],
   "source": [
    "%%time\n",
    " #agregar datos en pg\n",
    "register_vector(conn)\n",
    "cur = conn.cursor()\n",
    "\n",
    "data_list = [(row['AUTOR'], row['TITULO'], np.array(row['emb'])) for index, row in textos.iterrows()]\n",
    "\n",
    "cur.executemany(\"INSERT INTO embeddings (author, title, embedding) VALUES (%s, %s, %s)\", data_list)\n",
    "\n",
    "\n",
    "\n",
    "conn.commit()\n",
    "cur.close()"
   ]
  },
  {
   "cell_type": "code",
   "execution_count": 16,
   "id": "6e67f65f-e823-4c7c-a92f-31ebeb454098",
   "metadata": {},
   "outputs": [
    {
     "data": {
      "text/plain": [
       "<psycopg.Cursor [TUPLES_OK] [INTRANS] (host=127.0.0.1 user=postgres database=vector) at 0x21e9285b740>"
      ]
     },
     "execution_count": 16,
     "metadata": {},
     "output_type": "execute_result"
    }
   ],
   "source": [
    "cur = conn.cursor()\n",
    "cur.execute('SELECT * FROM embeddings')"
   ]
  },
  {
   "cell_type": "code",
   "execution_count": 17,
   "id": "b5679066-2ace-467b-8a9d-6c4fb61273d4",
   "metadata": {},
   "outputs": [],
   "source": [
    "cur.close()"
   ]
  },
  {
   "cell_type": "markdown",
   "id": "732d500a-30a0-4797-8e6e-184a99a1df38",
   "metadata": {},
   "source": [
    "# Benchmark"
   ]
  },
  {
   "cell_type": "code",
   "execution_count": 18,
   "id": "9432241a-7f48-4f4e-813f-38642c6c14e3",
   "metadata": {},
   "outputs": [],
   "source": [
    "bm = DatabaseBenchmark(conn, vectorizer, trunc)"
   ]
  },
  {
   "cell_type": "code",
   "execution_count": 19,
   "id": "e774d153-555d-4d4d-9a9e-4d2d8443c23a",
   "metadata": {},
   "outputs": [
    {
     "data": {
      "text/plain": [
       "25.289514360147024"
      ]
     },
     "execution_count": 19,
     "metadata": {},
     "output_type": "execute_result"
    }
   ],
   "source": [
    "bm.measure_qps('dog', 100)"
   ]
  },
  {
   "cell_type": "code",
   "execution_count": null,
   "id": "829f8172-c475-4273-903e-849212ba447e",
   "metadata": {},
   "outputs": [],
   "source": []
  },
  {
   "cell_type": "code",
   "execution_count": null,
   "id": "654bf8c9-ef04-4a1e-8ce9-dacb11d928d7",
   "metadata": {},
   "outputs": [],
   "source": []
  },
  {
   "cell_type": "code",
   "execution_count": null,
   "id": "193f770a-eb27-43ab-8b06-5280813b1bb0",
   "metadata": {},
   "outputs": [],
   "source": []
  },
  {
   "cell_type": "code",
   "execution_count": null,
   "id": "ac90a2d5-37b7-4884-936d-cdb72366cd69",
   "metadata": {},
   "outputs": [],
   "source": []
  },
  {
   "cell_type": "code",
   "execution_count": null,
   "id": "7079108c-b9a7-4651-a9be-72f1f31ca2e4",
   "metadata": {},
   "outputs": [],
   "source": []
  }
 ],
 "metadata": {
  "kernelspec": {
   "display_name": "Python 3 (ipykernel)",
   "language": "python",
   "name": "python3"
  },
  "language_info": {
   "codemirror_mode": {
    "name": "ipython",
    "version": 3
   },
   "file_extension": ".py",
   "mimetype": "text/x-python",
   "name": "python",
   "nbconvert_exporter": "python",
   "pygments_lexer": "ipython3",
   "version": "3.11.6"
  }
 },
 "nbformat": 4,
 "nbformat_minor": 5
}
