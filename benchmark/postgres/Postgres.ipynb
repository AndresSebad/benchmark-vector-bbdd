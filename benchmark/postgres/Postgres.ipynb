{
 "cells": [
  {
   "cell_type": "code",
   "execution_count": 9,
   "id": "81ccc637-a2ce-44b2-ae5d-79024b5ee6c0",
   "metadata": {},
   "outputs": [],
   "source": [
    "import psycopg as pg\n",
    "from sklearn.feature_extraction.text import TfidfTransformer\n"
   ]
  },
  {
   "cell_type": "code",
   "execution_count": 2,
   "id": "07606725-feef-4c5a-bb77-c45e96d7fb29",
   "metadata": {},
   "outputs": [],
   "source": [
    "conn = pg.connect( dbname= \"postgres\", user=\"postgres\", password=\"password\", host=\"127.0.0.1\", port=\"5432\")"
   ]
  },
  {
   "cell_type": "code",
   "execution_count": 3,
   "id": "0df70da3-6984-4c5e-8bb4-59c587229158",
   "metadata": {},
   "outputs": [],
   "source": [
    "conn.autocommit = True"
   ]
  },
  {
   "cell_type": "code",
   "execution_count": 4,
   "id": "fd1c88a7-020f-4fbf-b0ca-f85361c92cfe",
   "metadata": {},
   "outputs": [],
   "source": [
    "cursor = conn.cursor()"
   ]
  },
  {
   "cell_type": "code",
   "execution_count": 5,
   "id": "25098447-db0d-4069-b395-de043288e93e",
   "metadata": {},
   "outputs": [
    {
     "data": {
      "text/plain": [
       "<psycopg.Cursor [COMMAND_OK] [IDLE] (host=127.0.0.1 database=postgres) at 0x2f7ed252770>"
      ]
     },
     "execution_count": 5,
     "metadata": {},
     "output_type": "execute_result"
    }
   ],
   "source": [
    "sql = '''DROP database vector'''\n",
    "cursor.execute(sql)\n",
    "sql = '''CREATE database vector'''\n",
    "cursor.execute(sql)"
   ]
  },
  {
   "cell_type": "code",
   "execution_count": 6,
   "id": "b9265136-a053-46b6-a94f-1d3de1c30554",
   "metadata": {},
   "outputs": [],
   "source": [
    "conn.close()"
   ]
  },
  {
   "cell_type": "code",
   "execution_count": 11,
   "id": "ca257c89-9a1f-4d22-b8db-55159a8dfcca",
   "metadata": {},
   "outputs": [
    {
     "ename": "SyntaxError",
     "evalue": "invalid syntax (4149504281.py, line 1)",
     "output_type": "error",
     "traceback": [
      "\u001b[1;36m  Cell \u001b[1;32mIn[11], line 1\u001b[1;36m\u001b[0m\n\u001b[1;33m    dbname = pass\u001b[0m\n\u001b[1;37m             ^\u001b[0m\n\u001b[1;31mSyntaxError\u001b[0m\u001b[1;31m:\u001b[0m invalid syntax\n"
     ]
    }
   ],
   "source": [
    "dbname = None\n",
    "user = None\n",
    "password = None\n",
    "host = None\n",
    "port = None\n"
   ]
  },
  {
   "cell_type": "code",
   "execution_count": 7,
   "id": "2978c64f-fa1d-4ce6-8039-3ff375ae7e31",
   "metadata": {},
   "outputs": [],
   "source": [
    "conn = pg.connect(dbname= dbname, user= user, password= password, host= host, port= port)"
   ]
  },
  {
   "cell_type": "code",
   "execution_count": 8,
   "id": "12c3794f-5a76-4501-bbbe-f20bcabb7ad5",
   "metadata": {},
   "outputs": [
    {
     "data": {
      "text/plain": [
       "<psycopg.Cursor [COMMAND_OK] [INTRANS] (host=127.0.0.1 user=postgres database=vector) at 0x2f7ed252820>"
      ]
     },
     "execution_count": 8,
     "metadata": {},
     "output_type": "execute_result"
    }
   ],
   "source": [
    "conn.execute('CREATE EXTENSION IF NOT EXISTS vector') #la instalación en windows es una lata, instalar VSTUDIO 2022"
   ]
  },
  {
   "cell_type": "code",
   "execution_count": null,
   "id": "69870c5e-fdf4-4a9a-a8f2-90f01b66f19b",
   "metadata": {},
   "outputs": [],
   "source": [
    "import timeit\n",
    "class DatabaseBenchmark:\n",
    "    \"\"\"\n",
    "    Clase para benchmark de postgres\n",
    "    Falta arreglar las querys para tipo python, decidir tipo de indexacion y ver como funciona con datos reales\n",
    "    al contrario de chromi, no encuentro vectorizador por default, por lo que se puede utilizar tfidf\n",
    "    \"\"\"\n",
    "    def __init__(self, db_connection, cost_per_hour = False):3\n",
    "        \"\"\"\n",
    "        db_connection: Conexión a base de datos\n",
    "        \"\"\"\n",
    "        self.db_connection = db_connection\n",
    "        self.cost_per_hour = cost_per_hour\n",
    "\n",
    "    def query(self, query_string, n_results):\n",
    "        \"\"\"\n",
    "        query_string: vector de representación de un texto\n",
    "        n_results: numeros de vecinos a buscar\n",
    "        \"\"\"\n",
    "        with db_connection.cursor() as cur:\n",
    "            \n",
    "            query = \"SELECT * FROM items ORDER BY embedding <-> '{0}' LIMIT {1};\".format(query_string, n_results) \n",
    "        \n",
    "            results = cur.execute(query)\n",
    "\n",
    "            return [record for record in results]  \n",
    "#       \n",
    "\n",
    "    def build_index(self, vectorcol):\n",
    "        \"\"\"\n",
    "        incompleta, probar con datos\n",
    "        \"\"\"\n",
    "        query = 'CREATE INDEX ON {0} USING hnsw (embedding vector_l2_ops);'.format(vectorcol)\n",
    "        \n",
    "#       \n",
    "\n",
    "    def measure_qps(self, query string, num_queries=5, n_results = 1):\n",
    "        \n",
    "        start_time = timeit.default_timer()\n",
    "        for _ in range(num_queries):\n",
    "            self.query(query_string= query string, n_results= n_results)\n",
    "        end_time = timeit.default_timer()\n",
    "        \n",
    "        qps = num_queries / (end_time - start_time)\n",
    "        \n",
    "        return qps\n",
    "    \n",
    "    def measure_qp_dollar(self, qps):\n",
    "        if self.cost_per_hour is False:\n",
    "            return \"No hay costo por hora\"\n",
    "        qp_dollar = (qps / self.cost_per_hour) * 3600\n",
    "        return qp_dollar\n",
    "    \n",
    "    def measure_latency(self, query string, ):\n",
    "\n",
    "        \n",
    "        start_time = timeit.default_timer()\n",
    "        self.query(query string, 1)\n",
    "        latency = timeit.default_timer() - start_time\n",
    "        \n",
    "        return latency\n",
    "    \n",
    "    def measure_index_building_time(self):\n",
    "\n",
    "        \n",
    "        start_time = timeit.default_timer()\n",
    "        self.build_index([\"Esto es un documento\"], {\"source\": \"my_source\"}, [\"id1\"])\n",
    "        index_building_time = timeit.default_timer() - start_time\n",
    "        \n",
    "        return index_building_time"
   ]
  },
  {
   "cell_type": "code",
   "execution_count": null,
   "id": "9432241a-7f48-4f4e-813f-38642c6c14e3",
   "metadata": {},
   "outputs": [],
   "source": []
  }
 ],
 "metadata": {
  "kernelspec": {
   "display_name": "Python 3 (ipykernel)",
   "language": "python",
   "name": "python3"
  },
  "language_info": {
   "codemirror_mode": {
    "name": "ipython",
    "version": 3
   },
   "file_extension": ".py",
   "mimetype": "text/x-python",
   "name": "python",
   "nbconvert_exporter": "python",
   "pygments_lexer": "ipython3",
   "version": "3.11.6"
  }
 },
 "nbformat": 4,
 "nbformat_minor": 5
}
